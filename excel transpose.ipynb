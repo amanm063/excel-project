{
 "cells": [
  {
   "cell_type": "code",
   "execution_count": 2,
   "metadata": {},
   "outputs": [],
   "source": [
    "import pandas as pd"
   ]
  },
  {
   "cell_type": "code",
   "execution_count": 3,
   "metadata": {},
   "outputs": [],
   "source": [
    "import openpyxl as xl"
   ]
  },
  {
   "cell_type": "code",
   "execution_count": 4,
   "metadata": {},
   "outputs": [],
   "source": [
    "wb = xl.load_workbook(\"audit 3 in 1.xlsx\")\n",
    "sheet = wb[\"Audit- 3 xlsx\"]"
   ]
  },
  {
   "cell_type": "code",
   "execution_count": 5,
   "metadata": {},
   "outputs": [],
   "source": [
    "temp_sheet = wb[\"Sheet1\"]"
   ]
  },
  {
   "cell_type": "code",
   "execution_count": 6,
   "metadata": {},
   "outputs": [],
   "source": [
    "def copyRange(startCol, startRow, endCol, endRow, sheet):\n",
    "    rangeSelected = []\n",
    "    #Loops through selected Rows\n",
    "    for i in range(startRow,endRow + 1,1):\n",
    "        #Appends the row to a RowSelected list\n",
    "        rowSelected = []\n",
    "        for j in range(startCol,endCol+1,1):\n",
    "            rowSelected.append(sheet.cell(row = i, column = j).value)\n",
    "        #Adds the RowSelected List and nests inside the rangeSelected\n",
    "        rangeSelected.append(rowSelected)\n",
    " \n",
    "    return rangeSelected"
   ]
  },
  {
   "cell_type": "code",
   "execution_count": 7,
   "metadata": {},
   "outputs": [],
   "source": [
    "def pasteRange(startCol, startRow, endCol, endRow, sheetReceiving,copiedData):\n",
    "    countRow = 0\n",
    "    for i in range(startRow,endRow+1,1):\n",
    "        countCol = 0\n",
    "        for j in range(startCol,endCol+1,1):\n",
    "            \n",
    "            sheetReceiving.cell(row = i, column = j).value = copiedData[countRow][countCol]\n",
    "            countCol += 1\n",
    "        countRow += 1"
   ]
  },
  {
   "cell_type": "code",
   "execution_count": 10,
   "metadata": {},
   "outputs": [],
   "source": [
    "#in copyrange and pasting range the (colstart,row_start,colend,row_end) \n",
    "def createData():\n",
    "    print(\"Processing...\")\n",
    "    selectedRange = copyRange(1,1,10,549,sheet)\n",
    "    pastingRange = pasteRange(1,1,9,548,temp_sheet,selectedRange)\n",
    "    wb.save(\"FIRST.xlsx\")\n",
    "    print(\"Range copied and pasted!\")"
   ]
  },
  {
   "cell_type": "code",
   "execution_count": 11,
   "metadata": {},
   "outputs": [
    {
     "name": "stdout",
     "output_type": "stream",
     "text": [
      "Processing...\n",
      "Range copied and pasted!\n"
     ]
    }
   ],
   "source": [
    "createData()"
   ]
  },
  {
   "cell_type": "code",
   "execution_count": 28,
   "metadata": {},
   "outputs": [],
   "source": [
    "df= pd.read_excel(\"audit 6 in 1.xlsx\")"
   ]
  },
  {
   "cell_type": "code",
   "execution_count": 29,
   "metadata": {},
   "outputs": [],
   "source": [
    "df.T.to_excel('out6.xlsx', index=False)"
   ]
  }
 ],
 "metadata": {
  "kernelspec": {
   "display_name": "Python 3",
   "language": "python",
   "name": "python3"
  },
  "language_info": {
   "codemirror_mode": {
    "name": "ipython",
    "version": 3
   },
   "file_extension": ".py",
   "mimetype": "text/x-python",
   "name": "python",
   "nbconvert_exporter": "python",
   "pygments_lexer": "ipython3",
   "version": "3.7.6"
  }
 },
 "nbformat": 4,
 "nbformat_minor": 4
}
